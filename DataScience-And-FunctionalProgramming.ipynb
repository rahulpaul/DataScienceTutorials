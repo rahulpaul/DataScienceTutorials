{
 "cells": [
  {
   "cell_type": "code",
   "execution_count": 1,
   "metadata": {
    "collapsed": true
   },
   "outputs": [],
   "source": [
    "%matplotlib inline\n",
    "import matplotlib.pyplot as plt"
   ]
  },
  {
   "cell_type": "code",
   "execution_count": 2,
   "metadata": {
    "collapsed": true
   },
   "outputs": [],
   "source": [
    "# The operator module has functional versions of all \n",
    "# operators like add, substract, less than, greater than, etc\n",
    "from operator import add"
   ]
  },
  {
   "cell_type": "code",
   "execution_count": 3,
   "metadata": {
    "collapsed": false
   },
   "outputs": [
    {
     "data": {
      "text/plain": [
       "6"
      ]
     },
     "execution_count": 3,
     "metadata": {},
     "output_type": "execute_result"
    }
   ],
   "source": [
    "from functools import partial\n",
    "# does partial function application (\"currying\")\n",
    "# def add1(x): return add(1, x)\n",
    "# Could be written as \n",
    "\n",
    "add1 = partial(add, 1)\n",
    "add1(5)"
   ]
  },
  {
   "cell_type": "code",
   "execution_count": 4,
   "metadata": {
    "collapsed": false
   },
   "outputs": [
    {
     "data": {
      "text/plain": [
       "49"
      ]
     },
     "execution_count": 4,
     "metadata": {},
     "output_type": "execute_result"
    }
   ],
   "source": [
    "from functools import reduce\n",
    "# folding a list of objects into a single object\n",
    "from random import shuffle\n",
    "items = list(range(50))\n",
    "shuffle(items)\n",
    "reduce(max, items)"
   ]
  },
  {
   "cell_type": "code",
   "execution_count": 5,
   "metadata": {
    "collapsed": true
   },
   "outputs": [],
   "source": [
    "# Iterator: Serves values one at a time using the \"next()\" method\n",
    "# sequence of items are generated on demand (lazily)\n",
    "# allows us to create lazy infinite sequences\n",
    "\n",
    "# Generators can be used to get iterators\n",
    "def lazy_integers(n=0):\n",
    "    while True:\n",
    "        yield n\n",
    "        n += 1"
   ]
  },
  {
   "cell_type": "code",
   "execution_count": 6,
   "metadata": {
    "collapsed": false
   },
   "outputs": [
    {
     "data": {
      "text/plain": [
       "[0, 1, 2, 3, 4, 5, 6, 7, 8, 9]"
      ]
     },
     "execution_count": 6,
     "metadata": {},
     "output_type": "execute_result"
    }
   ],
   "source": [
    "xs = lazy_integers()\n",
    "[next(xs) for _ in range(10)]"
   ]
  },
  {
   "cell_type": "code",
   "execution_count": 7,
   "metadata": {
    "collapsed": false
   },
   "outputs": [
    {
     "data": {
      "text/plain": [
       "[10, 11, 12, 13, 14, 15, 16, 17, 18, 19]"
      ]
     },
     "execution_count": 7,
     "metadata": {},
     "output_type": "execute_result"
    }
   ],
   "source": [
    "# generators maintain state\n",
    "[next(xs) for _ in range(10)]"
   ]
  },
  {
   "cell_type": "code",
   "execution_count": 8,
   "metadata": {
    "collapsed": true
   },
   "outputs": [],
   "source": [
    "# generator comprehensions\n",
    "# computes nothing until next is called\n",
    "squares = (x**2 for x in lazy_integers())\n",
    "evens = (2*x for x in lazy_integers())"
   ]
  },
  {
   "cell_type": "code",
   "execution_count": 9,
   "metadata": {
    "collapsed": false
   },
   "outputs": [
    {
     "name": "stdout",
     "output_type": "stream",
     "text": [
      "0\n",
      "1\n",
      "4\n",
      "9\n"
     ]
    }
   ],
   "source": [
    "print(next(squares))\n",
    "print(next(squares))\n",
    "print(next(squares))\n",
    "print(next(squares))"
   ]
  },
  {
   "cell_type": "code",
   "execution_count": 10,
   "metadata": {
    "collapsed": false
   },
   "outputs": [
    {
     "name": "stdout",
     "output_type": "stream",
     "text": [
      "5\n"
     ]
    }
   ],
   "source": [
    "# generators and pipelines\n",
    "# in unix\n",
    "# $ cat euler.txt | grep -i \"prime\" | wc -l\n",
    "\n",
    "# python equivalent\n",
    "with open(\"data/euler.txt\", 'r') as f:\n",
    "    lines = (line for line in f)  # generator - lazy evaluation\n",
    "    prime_lines = filter(lambda line: \"prime\" in line.lower(), lines)\n",
    "    line_count = sum((1 for line in prime_lines))\n",
    "\n",
    "print(line_count)"
   ]
  },
  {
   "cell_type": "code",
   "execution_count": 11,
   "metadata": {
    "collapsed": false
   },
   "outputs": [
    {
     "data": {
      "text/plain": [
       "[10, 15, 20, 25, 30, 35, 40, 45, 50, 55]"
      ]
     },
     "execution_count": 11,
     "metadata": {},
     "output_type": "execute_result"
    }
   ],
   "source": [
    "from itertools import count\n",
    "\n",
    "# count([start=0], [step=1])\n",
    "\n",
    "# Gives the infinite sequence:\n",
    "# start, start + step, start + 2*step ....\n",
    "\n",
    "xs = count(start=10, step=5)\n",
    "[next(xs) for _ in range(10)]"
   ]
  },
  {
   "cell_type": "code",
   "execution_count": 12,
   "metadata": {
    "collapsed": false
   },
   "outputs": [
    {
     "name": "stdout",
     "output_type": "stream",
     "text": [
      "[10, 20, 30, 40, 50, 60, 70, 80, 90, 100]\n",
      "[15, 25, 35, 45, 55, 65, 75, 85, 95, 105]\n"
     ]
    }
   ],
   "source": [
    "from itertools import islice\n",
    "\n",
    "# islice(seq, [start=0], stop, [step=1])\n",
    "\n",
    "# Returns a \"lazy slice\" out of sequence\n",
    "\n",
    "xs = islice(count(start=10, step=5), 0, 20, 2)\n",
    "print([x for x in xs])\n",
    "\n",
    "xs = islice(count(start=10, step=5), 1, 20, 2)\n",
    "print([x for x in xs])"
   ]
  },
  {
   "cell_type": "code",
   "execution_count": 13,
   "metadata": {
    "collapsed": false
   },
   "outputs": [
    {
     "name": "stdout",
     "output_type": "stream",
     "text": [
      "i1:\n",
      "0, 1, 2, 3, 4, \n",
      "i2:\n",
      "0, 1, 2, 3, 4, "
     ]
    }
   ],
   "source": [
    "from itertools import tee\n",
    "\n",
    "# tee(it, [n=2])\n",
    "\n",
    "# splits an iterator into two or more memoized copies\n",
    "\n",
    "# huge efficiency gains if you have to iterate through expensive computation\n",
    "# multiple times\n",
    "\n",
    "# The tee() function returns several independent iterators (defaults to 2) based on a single original input. \n",
    "# It has semantics similar to the Unix tee utility, which repeats the values it reads from its input and writes \n",
    "# them to a named file and standard output.\n",
    "\n",
    "# Once tee() has made a split, the original iterable should not be used anywhere else; \n",
    "# otherwise, the iterable could get advanced without the tee objects being informed.\n",
    "\n",
    "# This itertool may require significant auxiliary storage (depending on how much temporary data needs to be stored).\n",
    "# In general, if one iterator uses most or all of the data before another iterator starts, it is faster to use \n",
    "# list() instead of tee().\n",
    "\n",
    "r = islice(count(), 5)\n",
    "i1, i2 = tee(r)\n",
    "\n",
    "print('i1:')\n",
    "for i in i1:\n",
    "    print(i, end=\", \")\n",
    "\n",
    "print('\\ni2:')\n",
    "for i in i2:\n",
    "    print(i, end=\", \")"
   ]
  },
  {
   "cell_type": "code",
   "execution_count": 14,
   "metadata": {
    "collapsed": false
   },
   "outputs": [
    {
     "data": {
      "text/plain": [
       "[5, 5, 5, 5, 5, 5, 5, 5, 5, 5]"
      ]
     },
     "execution_count": 14,
     "metadata": {},
     "output_type": "execute_result"
    }
   ],
   "source": [
    "from itertools import repeat\n",
    "\n",
    "# repeat(elem, [n=forever])\n",
    "\n",
    "# repeats elem n times (or forvever if no n)\n",
    "\n",
    "xs = repeat(5)\n",
    "[next(xs) for _ in range(10)]"
   ]
  },
  {
   "cell_type": "code",
   "execution_count": 15,
   "metadata": {
    "collapsed": false
   },
   "outputs": [
    {
     "data": {
      "text/plain": [
       "[0, 1, 2, 0, 1, 2, 0, 1, 2, 0, 1, 2]"
      ]
     },
     "execution_count": 15,
     "metadata": {},
     "output_type": "execute_result"
    }
   ],
   "source": [
    "from itertools import cycle\n",
    "\n",
    "# cycle(p)\n",
    "\n",
    "# repeats the elements of p over and over and over again forever\n",
    "\n",
    "xs = cycle(islice(count(), 3))\n",
    "[next(xs) for _ in  range(12)]"
   ]
  },
  {
   "cell_type": "code",
   "execution_count": 16,
   "metadata": {
    "collapsed": false
   },
   "outputs": [
    {
     "data": {
      "text/plain": [
       "[0, 1, 2, 3, 4, 100, 101, 102, 103, 104]"
      ]
     },
     "execution_count": 16,
     "metadata": {},
     "output_type": "execute_result"
    }
   ],
   "source": [
    "from itertools import chain\n",
    "\n",
    "# chain(p, q, ...)\n",
    "\n",
    "# iterates first through the elements of p, then the elements of q and so on\n",
    "\n",
    "xs = chain(islice(count(), 5), islice(count(start=100), 5))\n",
    "list(xs)"
   ]
  },
  {
   "cell_type": "code",
   "execution_count": 17,
   "metadata": {
    "collapsed": false
   },
   "outputs": [
    {
     "name": "stdout",
     "output_type": "stream",
     "text": [
      "[0, 1, 2, 3, 4, 5, 6, 7, 8, 9]\n",
      "[0, 1, 3, 6, 10, 15, 21, 28, 36, 45]\n"
     ]
    }
   ],
   "source": [
    "from itertools import accumulate\n",
    "\n",
    "# accumulate(p, [func=add])\n",
    "\n",
    "# returns the sequence a where\n",
    "\n",
    "# a[0] = p[0]\n",
    "# a[1] = func(a[0], p[1])\n",
    "# a[2] = func(a[1], p[2])\n",
    "# ....\n",
    "\n",
    "i1, i2 = tee(count(), 2)\n",
    "xs = accumulate(i2, add)\n",
    "print([next(i1) for _ in range(10)])\n",
    "print([next(xs) for _ in range(10)])"
   ]
  },
  {
   "cell_type": "code",
   "execution_count": 18,
   "metadata": {
    "collapsed": false
   },
   "outputs": [
    {
     "data": {
      "text/plain": [
       "[0, 1, 2, 3, 4, 5, 6, 7, 8, 9]"
      ]
     },
     "execution_count": 18,
     "metadata": {},
     "output_type": "execute_result"
    }
   ],
   "source": [
    "list(islice(count(), 10))"
   ]
  },
  {
   "cell_type": "code",
   "execution_count": 43,
   "metadata": {
    "collapsed": true
   },
   "outputs": [],
   "source": [
    "# More Itertool Recepies\n",
    "\n",
    "def take(n, it):\n",
    "    \"Returns the first n elements if the iterator as a list\"\n",
    "    return list(islice(it, n))\n",
    "\n",
    "def drop(n, it):\n",
    "    \"Returns a sequence with all but the first n elements of the given sequence\"\n",
    "    return islice(it, n, None)\n",
    "\n",
    "tail = partial(drop, 1)\n",
    "\n",
    "def nth(iterable, n, default=None):\n",
    "    \"Returns the nth item or a default value\"\n",
    "    return next(islice(iterable, n, None), default)"
   ]
  },
  {
   "cell_type": "code",
   "execution_count": 20,
   "metadata": {
    "collapsed": false
   },
   "outputs": [],
   "source": [
    "# needed an iterate(f, x) which generates the sequence x, f(x), f(f(x)), f(f(f(x))) ....\n",
    "def iterate(f, x):\n",
    "    return accumulate(repeat(x), lambda x1, x2: f(x1))"
   ]
  },
  {
   "cell_type": "code",
   "execution_count": 21,
   "metadata": {
    "collapsed": false
   },
   "outputs": [
    {
     "data": {
      "text/plain": [
       "[1, 2, 4, 8, 16, 32, 64, 128, 256, 512, 1024]"
      ]
     },
     "execution_count": 21,
     "metadata": {},
     "output_type": "execute_result"
    }
   ],
   "source": [
    "take(11, iterate(lambda x: 2*x, 1))"
   ]
  },
  {
   "cell_type": "code",
   "execution_count": 22,
   "metadata": {
    "collapsed": true
   },
   "outputs": [],
   "source": [
    "def fibs():\n",
    "    \"\"\"Functional implementation\"\"\"\n",
    "    yield 1\n",
    "    yield 1\n",
    "    fib1, fib2 = tee(fibs(), 2)\n",
    "    yield from map(add, fib1, tail(fib2))"
   ]
  },
  {
   "cell_type": "code",
   "execution_count": 23,
   "metadata": {
    "collapsed": false
   },
   "outputs": [
    {
     "name": "stdout",
     "output_type": "stream",
     "text": [
      "CPU times: user 0 ns, sys: 0 ns, total: 0 ns\n",
      "Wall time: 1.24 ms\n"
     ]
    },
    {
     "data": {
      "text/plain": [
       "''"
      ]
     },
     "execution_count": 23,
     "metadata": {},
     "output_type": "execute_result"
    }
   ],
   "source": [
    "%time take(50, fibs())\n",
    "''"
   ]
  },
  {
   "cell_type": "code",
   "execution_count": 24,
   "metadata": {
    "collapsed": false
   },
   "outputs": [
    {
     "name": "stdout",
     "output_type": "stream",
     "text": [
      "[1, 1, 2, 3, 5, 8, 13, 21, 34, 55, 89, 144, 233, 377, 610, 987, 1597, 2584, 4181, 6765]\n"
     ]
    }
   ],
   "source": [
    "print(take(20, fibs()))"
   ]
  },
  {
   "cell_type": "code",
   "execution_count": 25,
   "metadata": {
    "collapsed": false
   },
   "outputs": [],
   "source": [
    "# Another functional implementation of fibonacci\n",
    "def next_fib_pair(pair):\n",
    "    x, y = pair\n",
    "    return y, x + y\n",
    "\n",
    "def fibs():\n",
    "    return (y for x, y in iterate(next_fib_pair, (0, 1)))"
   ]
  },
  {
   "cell_type": "code",
   "execution_count": 26,
   "metadata": {
    "collapsed": false
   },
   "outputs": [
    {
     "name": "stdout",
     "output_type": "stream",
     "text": [
      "CPU times: user 34 µs, sys: 6 µs, total: 40 µs\n",
      "Wall time: 43.6 µs\n"
     ]
    },
    {
     "data": {
      "text/plain": [
       "''"
      ]
     },
     "execution_count": 26,
     "metadata": {},
     "output_type": "execute_result"
    }
   ],
   "source": [
    "%time take(50, fibs())\n",
    "''"
   ]
  },
  {
   "cell_type": "code",
   "execution_count": 27,
   "metadata": {
    "collapsed": false
   },
   "outputs": [
    {
     "name": "stdout",
     "output_type": "stream",
     "text": [
      "[1, 1, 2, 3, 5, 8, 13, 21, 34, 55, 89, 144, 233, 377, 610, 987, 1597, 2584, 4181, 6765, 10946, 17711, 28657, 46368, 75025, 121393, 196418, 317811, 514229, 832040, 1346269, 2178309, 3524578, 5702887, 9227465, 14930352, 24157817, 39088169, 63245986, 102334155, 165580141, 267914296, 433494437, 701408733, 1134903170, 1836311903, 2971215073, 4807526976, 7778742049, 12586269025]\n"
     ]
    }
   ],
   "source": [
    "print(take(50, fibs()))"
   ]
  },
  {
   "cell_type": "code",
   "execution_count": 28,
   "metadata": {
    "collapsed": true
   },
   "outputs": [],
   "source": [
    "# k-means clustering\n",
    "# ------------------\n",
    "# 1. have some points\n",
    "# 2. want to group them into k clusters\n",
    "# 3. want clusters to be small\n",
    "# -------------------------------------\n",
    "# Iterative approach\n",
    "# 1. choose k-means\n",
    "# 2. assign each point to cluster of closest mean\n",
    "# 3. compute new means\n",
    "# 4. repeat"
   ]
  },
  {
   "cell_type": "code",
   "execution_count": 29,
   "metadata": {
    "collapsed": true
   },
   "outputs": [],
   "source": [
    "import numpy as np\n",
    "from random import sample"
   ]
  },
  {
   "cell_type": "code",
   "execution_count": 41,
   "metadata": {
    "collapsed": true
   },
   "outputs": [],
   "source": [
    "def sample_np_array(np_array, sample_size):\n",
    "    t = np.random.randint(len(np_array), size=sample_size)\n",
    "    return np_array[t, :]"
   ]
  },
  {
   "cell_type": "code",
   "execution_count": 37,
   "metadata": {
    "collapsed": true
   },
   "outputs": [],
   "source": [
    "class KMeans:\n",
    "    \n",
    "    def __init__(self, k):\n",
    "        self.k = k\n",
    "        self.means = None\n",
    "    \n",
    "    def predict(self, point):\n",
    "        \"\"\" Return index of closest mean \"\"\"\n",
    "        d_min = float('inf')\n",
    "        for j, m in enumerate(self.means):\n",
    "            d = sum((m_i - p_i)**2 for m_i, p_i in zip(m, point))\n",
    "            if d < d_min:\n",
    "                prediction = j\n",
    "                d_min = d\n",
    "        return prediction\n",
    "    \n",
    "    def fit(self, points, num_iters=10):\n",
    "        \"\"\" \n",
    "        Find the k-means \n",
    "        points : 2D Numpy array\n",
    "        \"\"\"\n",
    "        assignments = [None for _ in range(len(points))]\n",
    "        self.means = [(p[0], p[1]) for p in sample_np_array(points, self.k)]  # is list of tuples\n",
    "        for _ in range(num_iters):\n",
    "            # assign each point to its closest mean\n",
    "            for i, point in enumerate(points):\n",
    "                assignments[i] = self.predict(point)\n",
    "            # compute new means\n",
    "            for j in range(self.k):\n",
    "                cluster = [p for p, c in zip(points, assignments) if c == j]\n",
    "                self.means[j] = list(map(lambda x: sum(x)/len(cluster), zip(*cluster)))\n",
    "    "
   ]
  },
  {
   "cell_type": "code",
   "execution_count": 38,
   "metadata": {
    "collapsed": false
   },
   "outputs": [],
   "source": [
    "# 100 random points in the unit-square, 5 clusters\n",
    "points = np.random.random_sample((100, 2))"
   ]
  },
  {
   "cell_type": "code",
   "execution_count": 39,
   "metadata": {
    "collapsed": false
   },
   "outputs": [],
   "source": [
    "model = KMeans(5)\n",
    "model.fit(points)\n",
    "assignments = [model.predict(point) for point in points]"
   ]
  },
  {
   "cell_type": "code",
   "execution_count": 44,
   "metadata": {
    "collapsed": false
   },
   "outputs": [],
   "source": [
    "# Now plot the means and the clusters\n",
    "def plot_kmeans(points, means):\n",
    "    for x, y in model.means:\n",
    "        plt.plot(x, y, marker='*', markersize=10, color='black')\n",
    "\n",
    "    for j, color in zip(range(5), ['r', 'g', 'b', 'm', 'c']):\n",
    "        cluster = [p for p, c in zip(points, assignments) if c == j]\n",
    "        xs, ys = zip(*cluster)\n",
    "        plt.scatter(xs, ys, color=color)"
   ]
  },
  {
   "cell_type": "code",
   "execution_count": 45,
   "metadata": {
    "collapsed": false
   },
   "outputs": [
    {
     "data": {
      "image/png": "[encoded data removed]",
      "text/plain": [
       "<matplotlib.figure.Figure at 0x7f7e9a91f390>"
      ]
     },
     "metadata": {},
     "output_type": "display_data"
    }
   ],
   "source": [
    "plot_kmeans(points, model.means)"
   ]
  },
  {
   "cell_type": "code",
   "execution_count": null,
   "metadata": {
    "collapsed": true
   },
   "outputs": [],
   "source": [
    "# Functional way of implementing K-Means"
   ]
  },
  {
   "cell_type": "code",
   "execution_count": 54,
   "metadata": {
    "collapsed": true
   },
   "outputs": [],
   "source": [
    "def squared_distance(p1, p2):\n",
    "    return sum((c_i - d_i)**2 for c_i, d_i in zip(p1, p2))\n",
    "\n",
    "\n",
    "def closest_index(means, point):\n",
    "    \"\"\" Return index of closest mean \"\"\"\n",
    "    distances = map(partial(squared_distance, point), means)\n",
    "    return min(enumerate(distances), key=lambda pair: pair[1])[0]    \n",
    "\n",
    "\n",
    "def new_means(points, prev_means):\n",
    "    \"\"\"\n",
    "    Find the new means\n",
    "    points : 2D Numpy array\n",
    "    prev_means : list of tuples\n",
    "    \"\"\"    \n",
    "    k = len(prev_means)\n",
    "    means = [None for _ in range(k)]\n",
    "    # assign each point to its closest mean\n",
    "    assignments = [predict(prev_means, p) for p in points]\n",
    "    # compute new means\n",
    "    for j in range(k):\n",
    "        cluster = [p for p, c in zip(points, assignments) if c == j]\n",
    "        means[j] = list(map(lambda x: sum(x)/len(cluster), zip(*cluster)))\n",
    "    return means\n",
    "\n",
    "\n",
    "def k_meanses(points, k):\n",
    "    initial_means = [(p[0], p[1]) for p in sample_np_array(points, k)]  # is list of tuples\n",
    "    return iterate(partial(new_means, points), initial_means)    \n",
    "    "
   ]
  },
  {
   "cell_type": "code",
   "execution_count": 55,
   "metadata": {
    "collapsed": false
   },
   "outputs": [],
   "source": [
    "means = nth(k_meanses(points, 5), 10)"
   ]
  },
  {
   "cell_type": "code",
   "execution_count": 56,
   "metadata": {
    "collapsed": false
   },
   "outputs": [
    {
     "data": {
      "image/png": "[encoded data removed]",
      "text/plain": [
       "<matplotlib.figure.Figure at 0x7f7e986238d0>"
      ]
     },
     "metadata": {},
     "output_type": "display_data"
    }
   ],
   "source": [
    "plot_kmeans(points, means)"
   ]
  },
  {
   "cell_type": "code",
   "execution_count": 53,
   "metadata": {
    "collapsed": true
   },
   "outputs": [],
   "source": [
    "def within_tolerance(tol, prev, curr):\n",
    "    if abs(prev - curr) < tol:\n",
    "        raise StopIteration\n",
    "    else:\n",
    "        return curr\n",
    "\n",
    "def until_convergence(it, tolerance=0.001):\n",
    "    accumulate(it, partial(within_tolerance, tolerance))"
   ]
  },
  {
   "cell_type": "code",
   "execution_count": 77,
   "metadata": {
    "collapsed": false
   },
   "outputs": [],
   "source": [
    "import math\n",
    "import random"
   ]
  },
  {
   "cell_type": "code",
   "execution_count": 68,
   "metadata": {
    "collapsed": true
   },
   "outputs": [],
   "source": [
    "# Gradient Descent"
   ]
  },
  {
   "cell_type": "code",
   "execution_count": 69,
   "metadata": {
    "collapsed": true
   },
   "outputs": [],
   "source": [
    "def f(x_i):\n",
    "    return sum(x_ij**2 for x_ij in x_i)\n",
    "\n",
    "# Gradient of x^2 is 2*x\n",
    "def df(x_i):\n",
    "    return [2*x_ij for x_ij in x_i]"
   ]
  },
  {
   "cell_type": "code",
   "execution_count": 70,
   "metadata": {
    "collapsed": true
   },
   "outputs": [],
   "source": [
    "def gradient_step(df, alpha, x_i):\n",
    "    return [x_ij + alpha * df_j for x_ij, df_j in zip(x_i, df(x_i))]\n",
    "\n",
    "# If we curry df and alpha then\n",
    "# point -> next_point\n",
    "\n",
    "def gradient_descent(df, x_0, alpha=0.1):\n",
    "    return iterate(partial(gradient_step, df, -alpha), x_0)"
   ]
  },
  {
   "cell_type": "code",
   "execution_count": 74,
   "metadata": {
    "collapsed": false
   },
   "outputs": [
    {
     "data": {
      "text/plain": [
       "[[0.9886305664600928, 0.13623305542078767],\n",
       " [0.10615339876930133, 0.014627912941660964],\n",
       " [0.011398134401834894, 0.0015706601923292252],\n",
       " [0.001223865362282335, 0.00016864835397957726],\n",
       " [0.00013141154264274552, 1.8108479121662893e-05],\n",
       " [1.4110206949187539e-05, 1.944383140196023e-06],\n",
       " [1.5150719346638104e-06, 2.0877654995089255e-07],\n",
       " [1.6267961026171286e-07, 2.241721135526985e-08],\n",
       " [1.746759014500207e-08, 2.4070297409600963e-09],\n",
       " [1.875568210317895e-09, 2.584528504480742e-10]]"
      ]
     },
     "execution_count": 74,
     "metadata": {},
     "output_type": "execute_result"
    }
   ],
   "source": [
    "# The function f is the sum of squares so we know that the minima is at 0\n",
    "take(100, gradient_descent(df, [random.random(), random.random()]))[::10]"
   ]
  },
  {
   "cell_type": "code",
   "execution_count": 75,
   "metadata": {
    "collapsed": true
   },
   "outputs": [],
   "source": [
    "# Trying out a little more complex function\n",
    "\n",
    "def random_point():\n",
    "    return [3*random.random() - 1, 3*random.random() - 1]\n",
    "\n",
    "def f(x):\n",
    "    \"\"\"\n",
    "    f(x, y) = -exp(-x^3 / 3 + x - y^2)\n",
    "    Has minima at (1, 0)\n",
    "    Saddle point at (-1, 0)\n",
    "    \"\"\"\n",
    "    return -math.exp(x[0]**3 / -3 + x[0] - x[1]**2)"
   ]
  },
  {
   "cell_type": "code",
   "execution_count": 79,
   "metadata": {
    "collapsed": false
   },
   "outputs": [],
   "source": [
    "def df(x):\n",
    "    \"\"\" Just the gradient \"\"\"\n",
    "    return ((1 - x[0]**2) * f(x), -2 * x[1] * f(x))"
   ]
  },
  {
   "cell_type": "code",
   "execution_count": 80,
   "metadata": {
    "collapsed": false
   },
   "outputs": [
    {
     "data": {
      "text/plain": [
       "[[1.7346754225451586, -0.19698188535084715],\n",
       " [1.0061524714002719, -0.0025906193524131973],\n",
       " [1.0000439969904003, -1.8618598010857285e-05],\n",
       " [1.0000003161776165, -1.3380448302474943e-07],\n",
       " [1.0000000022722426, -9.61599773813217e-10],\n",
       " [1.0000000000163298, -6.9106363560814674e-12],\n",
       " [1.0000000000001175, -4.966400382626478e-14],\n",
       " [1.0000000000000009, -3.5691550661389834e-16],\n",
       " [1.0000000000000002, -2.565010249819736e-18],\n",
       " [1.0000000000000002, -1.8433711788256905e-20]]"
      ]
     },
     "execution_count": 80,
     "metadata": {},
     "output_type": "execute_result"
    }
   ],
   "source": [
    "# The function f is the sum of squares so we know that the minima is at 0\n",
    "take(100, gradient_descent(df, random_point()))[::10]"
   ]
  },
  {
   "cell_type": "code",
   "execution_count": null,
   "metadata": {
    "collapsed": true
   },
   "outputs": [],
   "source": []
  }
 ],
 "metadata": {
  "kernelspec": {
   "display_name": "Python 3",
   "language": "python",
   "name": "python3"
  },
  "language_info": {
   "codemirror_mode": {
    "name": "ipython",
    "version": 3
   },
   "file_extension": ".py",
   "mimetype": "text/x-python",
   "name": "python",
   "nbconvert_exporter": "python",
   "pygments_lexer": "ipython3",
   "version": "3.5.1"
  }
 },
 "nbformat": 4,
 "nbformat_minor": 0
}
