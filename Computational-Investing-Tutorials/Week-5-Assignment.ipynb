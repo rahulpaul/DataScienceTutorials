{
 "cells": [
  {
   "cell_type": "code",
   "execution_count": 1,
   "metadata": {
    "collapsed": false
   },
   "outputs": [
    {
     "name": "stderr",
     "output_type": "stream",
     "text": [
      "/home/rahul/app_packages/anaconda3/envs/qstkpython2env/lib/python2.7/site-packages/QSTK/qstkutil/qsdateutil.py:36: FutureWarning: TimeSeries is deprecated. Please use Series\n",
      "  return pd.TimeSeries(index=dates, data=dates)\n"
     ]
    }
   ],
   "source": [
    "import QSTK.qstkutil.DataAccess as da\n",
    "import QSTK.qstkutil.qsdateutil as du"
   ]
  },
  {
   "cell_type": "code",
   "execution_count": 2,
   "metadata": {
    "collapsed": true
   },
   "outputs": [],
   "source": [
    "import datetime as dt\n",
    "import numpy as np\n",
    "import pandas as pd"
   ]
  },
  {
   "cell_type": "code",
   "execution_count": 3,
   "metadata": {
    "collapsed": true
   },
   "outputs": [],
   "source": [
    "pd.set_option('max_rows', 20)"
   ]
  },
  {
   "cell_type": "code",
   "execution_count": 4,
   "metadata": {
    "collapsed": true
   },
   "outputs": [],
   "source": [
    "AVAILABLE_PRICE_TYPES = ('open', 'high', 'low', 'close', 'volume', 'actual_close')\n",
    "\n",
    "\n",
    "def get_price_dict(dt_start, dt_end, symbols, ls_price_type):\n",
    "    assert all(price_type in AVAILABLE_PRICE_TYPES for price_type in ls_price_type)\n",
    "    days = du.getNYSEdays(dt_start, dt_end, dt.timedelta(hours=16))\n",
    "    c_dataobj = da.DataAccess('Yahoo')\n",
    "    data_list = c_dataobj.get_data(days, symbols, ls_price_type)\n",
    "    return dict(zip(ls_price_type, data_list))\n",
    "\n",
    "\n",
    "def get_price_df(dt_start, dt_end, symbols, price_type='close'):\n",
    "    assert price_type in AVAILABLE_PRICE_TYPES\n",
    "    d_data = get_price_dict(dt_start, dt_end, symbols, [price_type])    \n",
    "    return d_data[price_type]\n",
    "\n",
    "# Example usage\n",
    "# get_price_df(dt.date(2012, 1, 1), dt.date(2012, 1, 15), [\"AAPL\", \"MSFT\"], 'actual_close')"
   ]
  },
  {
   "cell_type": "code",
   "execution_count": 5,
   "metadata": {
    "collapsed": true
   },
   "outputs": [],
   "source": [
    "def create_orders_df(filepath):\n",
    "    orders = pd.read_csv(filepath, header=-1)\n",
    "    # delete last column\n",
    "    orders = orders.ix[:, range(len(orders.columns) -1)]\n",
    "    orders.columns = ['year', 'month', 'day', 'symbol', 'side', 'quantity']\n",
    "    orders['date'] = pd.to_datetime(orders[['year', 'month', 'day']])\n",
    "    return orders[['date', 'symbol', 'side', 'quantity']].copy()"
   ]
  },
  {
   "cell_type": "code",
   "execution_count": 6,
   "metadata": {
    "collapsed": true
   },
   "outputs": [],
   "source": [
    "def compute_fund_valuation(orderfile, initial_cash):\n",
    "    df_orders_all = create_orders_df(orderfile).sort_values(by='date')\n",
    "    df_orders_all['signed_qty'] = df_orders_all.apply(lambda row: row['quantity'] * (1 if row['side'] == 'Buy' else -1), axis=1)\n",
    "    dt_start = df_orders_all.iloc[0]['date'].date()\n",
    "    dt_end = df_orders_all.iloc[-1]['date'].date()\n",
    "    symbols = df_orders_all['symbol'].unique().tolist()\n",
    "    df_close_all = get_price_df(dt_start, dt_end, symbols, price_type='close')\n",
    "    df_close_all.index = [x.date() for x in df_close_all.index]\n",
    "    df_value_all = pd.DataFrame(index=df_close_all.index)\n",
    "    df_cash = pd.Series(len(df_close_all.index)*[initial_cash], index=df_close_all.index)\n",
    "    for symbol in symbols:\n",
    "        df_orders = df_orders_all[df_orders_all['symbol'] == symbol]\n",
    "        df_orders = df_orders['signed_qty'].groupby(df_orders['date']).sum()\n",
    "        df_orders = df_orders.reindex(df_close_all.index).fillna(0)\n",
    "        df_close = df_close_all[symbol]\n",
    "        df_cash_outflow = (df_close * df_orders).cumsum()               \n",
    "        df_holding = df_orders.cumsum()        \n",
    "        df_value = df_close * df_holding\n",
    "        df_cash = df_cash - df_cash_outflow\n",
    "        df_value_all[symbol] = df_value\n",
    "    \n",
    "    df_value_all['cash'] = df_cash\n",
    "    df_value_all['total'] = df_value_all.apply(sum, axis=1)\n",
    "    return df_value_all"
   ]
  },
  {
   "cell_type": "code",
   "execution_count": 7,
   "metadata": {
    "collapsed": false
   },
   "outputs": [
    {
     "name": "stdout",
     "output_type": "stream",
     "text": [
      "2011,1,05,AAPL,Buy,1500,\r\n",
      "2011,1,20,AAPL,Sell,1500,\r\n"
     ]
    }
   ],
   "source": [
    "!cat data/orders-short.csv"
   ]
  },
  {
   "cell_type": "code",
   "execution_count": 8,
   "metadata": {
    "collapsed": false
   },
   "outputs": [],
   "source": [
    "df_daily_fund_valuation = compute_fund_valuation('data/orders-short.csv', 1000000)"
   ]
  },
  {
   "cell_type": "code",
   "execution_count": 9,
   "metadata": {
    "collapsed": false
   },
   "outputs": [
    {
     "data": {
      "text/html": [
       "<div>\n",
       "<table border=\"1\" class=\"dataframe\">\n",
       "  <thead>\n",
       "    <tr style=\"text-align: right;\">\n",
       "      <th></th>\n",
       "      <th>AAPL</th>\n",
       "      <th>cash</th>\n",
       "      <th>total</th>\n",
       "    </tr>\n",
       "  </thead>\n",
       "  <tbody>\n",
       "    <tr>\n",
       "      <th>2011-01-05</th>\n",
       "      <td>498855.0</td>\n",
       "      <td>501145.0</td>\n",
       "      <td>1000000.0</td>\n",
       "    </tr>\n",
       "    <tr>\n",
       "      <th>2011-01-06</th>\n",
       "      <td>498450.0</td>\n",
       "      <td>501145.0</td>\n",
       "      <td>999595.0</td>\n",
       "    </tr>\n",
       "    <tr>\n",
       "      <th>2011-01-07</th>\n",
       "      <td>502020.0</td>\n",
       "      <td>501145.0</td>\n",
       "      <td>1003165.0</td>\n",
       "    </tr>\n",
       "    <tr>\n",
       "      <th>2011-01-10</th>\n",
       "      <td>511485.0</td>\n",
       "      <td>501145.0</td>\n",
       "      <td>1012630.0</td>\n",
       "    </tr>\n",
       "    <tr>\n",
       "      <th>2011-01-11</th>\n",
       "      <td>510270.0</td>\n",
       "      <td>501145.0</td>\n",
       "      <td>1011415.0</td>\n",
       "    </tr>\n",
       "    <tr>\n",
       "      <th>2011-01-12</th>\n",
       "      <td>514425.0</td>\n",
       "      <td>501145.0</td>\n",
       "      <td>1015570.0</td>\n",
       "    </tr>\n",
       "    <tr>\n",
       "      <th>2011-01-13</th>\n",
       "      <td>516300.0</td>\n",
       "      <td>501145.0</td>\n",
       "      <td>1017445.0</td>\n",
       "    </tr>\n",
       "    <tr>\n",
       "      <th>2011-01-14</th>\n",
       "      <td>520485.0</td>\n",
       "      <td>501145.0</td>\n",
       "      <td>1021630.0</td>\n",
       "    </tr>\n",
       "    <tr>\n",
       "      <th>2011-01-18</th>\n",
       "      <td>508785.0</td>\n",
       "      <td>501145.0</td>\n",
       "      <td>1009930.0</td>\n",
       "    </tr>\n",
       "    <tr>\n",
       "      <th>2011-01-19</th>\n",
       "      <td>506085.0</td>\n",
       "      <td>501145.0</td>\n",
       "      <td>1007230.0</td>\n",
       "    </tr>\n",
       "    <tr>\n",
       "      <th>2011-01-20</th>\n",
       "      <td>0.0</td>\n",
       "      <td>998035.0</td>\n",
       "      <td>998035.0</td>\n",
       "    </tr>\n",
       "  </tbody>\n",
       "</table>\n",
       "</div>"
      ],
      "text/plain": [
       "                AAPL      cash      total\n",
       "2011-01-05  498855.0  501145.0  1000000.0\n",
       "2011-01-06  498450.0  501145.0   999595.0\n",
       "2011-01-07  502020.0  501145.0  1003165.0\n",
       "2011-01-10  511485.0  501145.0  1012630.0\n",
       "2011-01-11  510270.0  501145.0  1011415.0\n",
       "2011-01-12  514425.0  501145.0  1015570.0\n",
       "2011-01-13  516300.0  501145.0  1017445.0\n",
       "2011-01-14  520485.0  501145.0  1021630.0\n",
       "2011-01-18  508785.0  501145.0  1009930.0\n",
       "2011-01-19  506085.0  501145.0  1007230.0\n",
       "2011-01-20       0.0  998035.0   998035.0"
      ]
     },
     "execution_count": 9,
     "metadata": {},
     "output_type": "execute_result"
    }
   ],
   "source": [
    "df_daily_fund_valuation"
   ]
  },
  {
   "cell_type": "code",
   "execution_count": 10,
   "metadata": {
    "collapsed": true
   },
   "outputs": [],
   "source": [
    "def generate_performance_metrics(daily_ret_series):\n",
    "    avg_ret = np.nanmean(daily_ret_series)\n",
    "    std_ret = np.nanstd(daily_ret_series)\n",
    "    sharpe_ratio = np.sqrt(252) * avg_ret / std_ret\n",
    "    return avg_ret, std_ret, sharpe_ratio    "
   ]
  },
  {
   "cell_type": "code",
   "execution_count": 11,
   "metadata": {
    "collapsed": true
   },
   "outputs": [],
   "source": [
    "def generate_fund_performance_metrics(orderfile, initial_cash):\n",
    "    df_daily_fund_valuation = compute_fund_valuation(orderfile, initial_cash)\n",
    "    df_fund_daily_ret = df_daily_fund_valuation['total'] / df_daily_fund_valuation['total'].shift(1) - 1.0\n",
    "    dt_start, dt_end = df_daily_fund_valuation.index[0], df_daily_fund_valuation.index[-1]\n",
    "    df_spx_close = get_price_df(dt_start, dt_end, ['$SPX'], price_type='close')\n",
    "    df_spx_close = df_spx_close.fillna(method='ffill').fillna(method='bfill')\n",
    "    df_spx_ret = df_spx_close / df_spx_close.shift(1) - 1.0\n",
    "    fund_avg_ret, fund_std_ret, fund_sharpe_ratio = generate_performance_metrics(df_fund_daily_ret)\n",
    "    spx_avg_ret, spx_std_ret, spx_sharpe_ratio = generate_performance_metrics(df_spx_ret)\n",
    "    print(\"Details of the Performance of the portfolio :\")\n",
    "    print(\"Data Range : \" + str(dt_start) + \" to \" + str(dt_end))\n",
    "    print(\"\\n\")\n",
    "    print(\"Sharpe Ratio of Fund : \" + str(fund_sharpe_ratio))\n",
    "    print(\"Sharpe Ratio of $SPX : \" + str(spx_sharpe_ratio))\n",
    "    print(\"\\n\")\n",
    "    print(\"Standard Deviation of Fund: \" + str(fund_std_ret))\n",
    "    print(\"Standard Deviation of $SPX: \" + str(spx_std_ret))\n",
    "    print(\"\\n\")\n",
    "    print(\"Average Daily Return of Fund : \" + str(fund_avg_ret))\n",
    "    print(\"Average Daily Return of $SPX : \" + str(spx_avg_ret))    \n",
    "    return df_daily_fund_valuation"
   ]
  },
  {
   "cell_type": "code",
   "execution_count": 12,
   "metadata": {
    "collapsed": false
   },
   "outputs": [
    {
     "name": "stdout",
     "output_type": "stream",
     "text": [
      "Details of the Performance of the portfolio :\n",
      "Data Range : 2011-01-05 to 2011-01-20\n",
      "\n",
      "\n",
      "Sharpe Ratio of Fund : -0.471124970325\n",
      "Sharpe Ratio of $SPX : 0.929887436185\n",
      "\n",
      "\n",
      "Standard Deviation of Fund: 0.00601586846767\n",
      "Standard Deviation of $SPX: 0.00516969330861\n",
      "\n",
      "\n",
      "Average Daily Return of Fund : -0.000178539446839\n",
      "Average Daily Return of $SPX : 0.000302827205547\n"
     ]
    }
   ],
   "source": [
    "df = generate_fund_performance_metrics('data/orders-short.csv', 1000000)"
   ]
  },
  {
   "cell_type": "code",
   "execution_count": 13,
   "metadata": {
    "collapsed": false
   },
   "outputs": [
    {
     "name": "stdout",
     "output_type": "stream",
     "text": [
      "2011,1,14,AAPL,Buy,1500,\r\n",
      "2011,1,19,AAPL,Sell,1500,\r\n",
      "2011,1,19,IBM,Buy,4000,\r\n",
      "2011,1,31,GOOG,Buy,1000,\r\n",
      "2011,2,4,XOM,Sell,4000,\r\n",
      "2011,2,11,XOM,Buy,4000,\r\n",
      "2011,3,2,GOOG,Sell,1000,\r\n",
      "2011,3,2,IBM,Sell,2200,\r\n",
      "2011,6,2,IBM,Sell,3300,\r\n",
      "2011,5,23,IBM,Buy,1500,\r\n",
      "2011,6,10,AAPL,Buy,1200,\r\n",
      "2011,8,9,GOOG,Buy,55,\r\n",
      "2011,8,11,GOOG,Sell,55,\r\n",
      "2011,12,14,AAPL,Sell,1200,\r\n"
     ]
    }
   ],
   "source": [
    "!cat data/orders2.csv"
   ]
  },
  {
   "cell_type": "code",
   "execution_count": 14,
   "metadata": {
    "collapsed": false
   },
   "outputs": [
    {
     "name": "stdout",
     "output_type": "stream",
     "text": [
      "Details of the Performance of the portfolio :\n",
      "Data Range : 2011-01-14 to 2011-12-14\n",
      "\n",
      "\n",
      "Sharpe Ratio of Fund : 0.79069560435\n",
      "Sharpe Ratio of $SPX : -0.177587826049\n",
      "\n",
      "\n",
      "Standard Deviation of Fund: 0.00709561228768\n",
      "Standard Deviation of $SPX: 0.0150238604299\n",
      "\n",
      "\n",
      "Average Daily Return of Fund : 0.000353426354584\n",
      "Average Daily Return of $SPX : -0.000168071648902\n"
     ]
    }
   ],
   "source": [
    "df = generate_fund_performance_metrics('data/orders2.csv', 1000000)"
   ]
  },
  {
   "cell_type": "code",
   "execution_count": 15,
   "metadata": {
    "collapsed": false
   },
   "outputs": [
    {
     "name": "stdout",
     "output_type": "stream",
     "text": [
      "Details of the Performance of the portfolio :\n",
      "Data Range : 2011-01-10 to 2011-12-20\n",
      "\n",
      "\n",
      "Sharpe Ratio of Fund : 1.21795959093\n",
      "Sharpe Ratio of $SPX : 0.0183774676298\n",
      "\n",
      "\n",
      "Standard Deviation of Fund: 0.00719005204538\n",
      "Standard Deviation of $SPX: 0.0149402549625\n",
      "\n",
      "\n",
      "Average Daily Return of Fund : 0.000551651296638\n",
      "Average Daily Return of $SPX : 1.7295909534e-05\n"
     ]
    }
   ],
   "source": [
    "df = generate_fund_performance_metrics('data/week5/orders.csv', 1000000)"
   ]
  },
  {
   "cell_type": "code",
   "execution_count": 16,
   "metadata": {
    "collapsed": false
   },
   "outputs": [
    {
     "data": {
      "text/plain": [
       "AAPL      467136.0\n",
       "IBM            0.0\n",
       "GOOG           0.0\n",
       "XOM            0.0\n",
       "cash      660748.0\n",
       "total    1127884.0\n",
       "Name: 2011-12-06, dtype: float64"
      ]
     },
     "execution_count": 16,
     "metadata": {},
     "output_type": "execute_result"
    }
   ],
   "source": [
    "df.ix[dt.date(year=2011, month=12, day=6)]"
   ]
  },
  {
   "cell_type": "code",
   "execution_count": 17,
   "metadata": {
    "collapsed": false
   },
   "outputs": [
    {
     "data": {
      "text/plain": [
       "AAPL      472308.0\n",
       "IBM            0.0\n",
       "GOOG           0.0\n",
       "XOM            0.0\n",
       "cash      660748.0\n",
       "total    1133056.0\n",
       "Name: 2011-11-09, dtype: float64"
      ]
     },
     "execution_count": 17,
     "metadata": {},
     "output_type": "execute_result"
    }
   ],
   "source": [
    "df.ix[dt.date(year=2011, month=11, day=9)]"
   ]
  },
  {
   "cell_type": "code",
   "execution_count": 18,
   "metadata": {
    "collapsed": false
   },
   "outputs": [
    {
     "data": {
      "text/plain": [
       "AAPL      481740.0\n",
       "IBM            0.0\n",
       "GOOG           0.0\n",
       "XOM            0.0\n",
       "cash      660748.0\n",
       "total    1142488.0\n",
       "Name: 2011-09-26, dtype: float64"
      ]
     },
     "execution_count": 18,
     "metadata": {},
     "output_type": "execute_result"
    }
   ],
   "source": [
    "df.ix[dt.date(year=2011, month=9, day=26)]"
   ]
  },
  {
   "cell_type": "code",
   "execution_count": 19,
   "metadata": {
    "collapsed": false
   },
   "outputs": [
    {
     "data": {
      "text/plain": [
       "AAPL      462756.0\n",
       "IBM            0.0\n",
       "GOOG           0.0\n",
       "XOM            0.0\n",
       "cash      660748.0\n",
       "total    1123504.0\n",
       "Name: 2011-07-21, dtype: float64"
      ]
     },
     "execution_count": 19,
     "metadata": {},
     "output_type": "execute_result"
    }
   ],
   "source": [
    "df.ix[dt.date(year=2011, month=7, day=21)]"
   ]
  },
  {
   "cell_type": "code",
   "execution_count": 20,
   "metadata": {
    "collapsed": false
   },
   "outputs": [
    {
     "data": {
      "text/plain": [
       "AAPL           0.0\n",
       "IBM       283248.0\n",
       "GOOG           0.0\n",
       "XOM            0.0\n",
       "cash      769519.0\n",
       "total    1052767.0\n",
       "Name: 2011-03-28, dtype: float64"
      ]
     },
     "execution_count": 20,
     "metadata": {},
     "output_type": "execute_result"
    }
   ],
   "source": [
    "df.ix[dt.date(year=2011, month=3, day=28)]"
   ]
  },
  {
   "cell_type": "code",
   "execution_count": 21,
   "metadata": {
    "collapsed": false
   },
   "outputs": [
    {
     "name": "stdout",
     "output_type": "stream",
     "text": [
      "Details of the Performance of the portfolio :\n",
      "Data Range : 2011-01-14 to 2011-12-14\n",
      "\n",
      "\n",
      "Sharpe Ratio of Fund : 0.79069560435\n",
      "Sharpe Ratio of $SPX : -0.177587826049\n",
      "\n",
      "\n",
      "Standard Deviation of Fund: 0.00709561228768\n",
      "Standard Deviation of $SPX: 0.0150238604299\n",
      "\n",
      "\n",
      "Average Daily Return of Fund : 0.000353426354584\n",
      "Average Daily Return of $SPX : -0.000168071648902\n"
     ]
    }
   ],
   "source": [
    "df2 = generate_fund_performance_metrics('data/week5/orders2.csv', 1000000)"
   ]
  },
  {
   "cell_type": "code",
   "execution_count": 22,
   "metadata": {
    "collapsed": false
   },
   "outputs": [
    {
     "data": {
      "text/plain": [
       "AAPL      467136.0\n",
       "IBM            0.0\n",
       "GOOG           0.0\n",
       "XOM            0.0\n",
       "cash      624480.6\n",
       "total    1091616.6\n",
       "Name: 2011-12-06, dtype: float64"
      ]
     },
     "execution_count": 22,
     "metadata": {},
     "output_type": "execute_result"
    }
   ],
   "source": [
    "df2.ix[dt.date(year=2011, month=12, day=6)]"
   ]
  },
  {
   "cell_type": "code",
   "execution_count": 23,
   "metadata": {
    "collapsed": false
   },
   "outputs": [
    {
     "data": {
      "text/plain": [
       "AAPL      472308.0\n",
       "IBM            0.0\n",
       "GOOG           0.0\n",
       "XOM            0.0\n",
       "cash      624480.6\n",
       "total    1096788.6\n",
       "Name: 2011-11-09, dtype: float64"
      ]
     },
     "execution_count": 23,
     "metadata": {},
     "output_type": "execute_result"
    }
   ],
   "source": [
    "df2.ix[dt.date(year=2011, month=11, day=9)]"
   ]
  },
  {
   "cell_type": "code",
   "execution_count": 24,
   "metadata": {
    "collapsed": false
   },
   "outputs": [
    {
     "data": {
      "text/plain": [
       "AAPL      481740.0\n",
       "IBM            0.0\n",
       "GOOG           0.0\n",
       "XOM            0.0\n",
       "cash      624480.6\n",
       "total    1106220.6\n",
       "Name: 2011-09-26, dtype: float64"
      ]
     },
     "execution_count": 24,
     "metadata": {},
     "output_type": "execute_result"
    }
   ],
   "source": [
    "df2.ix[dt.date(year=2011, month=9, day=26)]"
   ]
  },
  {
   "cell_type": "code",
   "execution_count": 25,
   "metadata": {
    "collapsed": false
   },
   "outputs": [
    {
     "data": {
      "text/plain": [
       "AAPL      462756.0\n",
       "IBM            0.0\n",
       "GOOG           0.0\n",
       "XOM            0.0\n",
       "cash      625101.0\n",
       "total    1087857.0\n",
       "Name: 2011-07-21, dtype: float64"
      ]
     },
     "execution_count": 25,
     "metadata": {},
     "output_type": "execute_result"
    }
   ],
   "source": [
    "df2.ix[dt.date(year=2011, month=7, day=21)]"
   ]
  },
  {
   "cell_type": "code",
   "execution_count": 26,
   "metadata": {
    "collapsed": false
   },
   "outputs": [
    {
     "data": {
      "text/plain": [
       "AAPL           0.0\n",
       "IBM       283248.0\n",
       "GOOG           0.0\n",
       "XOM            0.0\n",
       "cash      724866.0\n",
       "total    1008114.0\n",
       "Name: 2011-03-28, dtype: float64"
      ]
     },
     "execution_count": 26,
     "metadata": {},
     "output_type": "execute_result"
    }
   ],
   "source": [
    "df2.ix[dt.date(year=2011, month=3, day=28)]"
   ]
  }
 ],
 "metadata": {
  "kernelspec": {
   "display_name": "qstkpython2env",
   "language": "python",
   "name": "qstkpython2env"
  },
  "language_info": {
   "codemirror_mode": {
    "name": "ipython",
    "version": 2
   },
   "file_extension": ".py",
   "mimetype": "text/x-python",
   "name": "python",
   "nbconvert_exporter": "python",
   "pygments_lexer": "ipython2",
   "version": "2.7.12"
  }
 },
 "nbformat": 4,
 "nbformat_minor": 0
}
