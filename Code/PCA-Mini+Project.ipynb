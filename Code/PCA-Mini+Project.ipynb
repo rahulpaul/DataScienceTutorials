{
 "cells": [
  {
   "cell_type": "code",
   "execution_count": 1,
   "metadata": {
    "collapsed": true
   },
   "outputs": [],
   "source": [
    "# To enable plotting graphs in Jupyter notebook\n",
    "%matplotlib inline "
   ]
  },
  {
   "cell_type": "code",
   "execution_count": 18,
   "metadata": {
    "collapsed": true
   },
   "outputs": [],
   "source": [
    "import pandas as pd\n",
    "import numpy as np\n",
    "import matplotlib.pyplot as plt "
   ]
  },
  {
   "cell_type": "code",
   "execution_count": 4,
   "metadata": {
    "collapsed": true
   },
   "outputs": [],
   "source": [
    "wine_df = pd.read_csv(\"https://archive.ics.uci.edu/ml/machine-learning-databases/wine/wine.data\")"
   ]
  },
  {
   "cell_type": "code",
   "execution_count": 52,
   "metadata": {
    "collapsed": false
   },
   "outputs": [
    {
     "data": {
      "text/html": [
       "<div>\n",
       "<style>\n",
       "    .dataframe thead tr:only-child th {\n",
       "        text-align: right;\n",
       "    }\n",
       "\n",
       "    .dataframe thead th {\n",
       "        text-align: left;\n",
       "    }\n",
       "\n",
       "    .dataframe tbody tr th {\n",
       "        vertical-align: top;\n",
       "    }\n",
       "</style>\n",
       "<table border=\"1\" class=\"dataframe\">\n",
       "  <thead>\n",
       "    <tr style=\"text-align: right;\">\n",
       "      <th></th>\n",
       "      <th>1</th>\n",
       "      <th>14.23</th>\n",
       "      <th>1.71</th>\n",
       "      <th>2.43</th>\n",
       "      <th>15.6</th>\n",
       "      <th>127</th>\n",
       "      <th>2.8</th>\n",
       "      <th>3.06</th>\n",
       "      <th>.28</th>\n",
       "      <th>2.29</th>\n",
       "      <th>5.64</th>\n",
       "      <th>1.04</th>\n",
       "      <th>3.92</th>\n",
       "      <th>1065</th>\n",
       "    </tr>\n",
       "  </thead>\n",
       "  <tbody>\n",
       "    <tr>\n",
       "      <th>0</th>\n",
       "      <td>1</td>\n",
       "      <td>13.20</td>\n",
       "      <td>1.78</td>\n",
       "      <td>2.14</td>\n",
       "      <td>11.2</td>\n",
       "      <td>100</td>\n",
       "      <td>2.65</td>\n",
       "      <td>2.76</td>\n",
       "      <td>0.26</td>\n",
       "      <td>1.28</td>\n",
       "      <td>4.38</td>\n",
       "      <td>1.05</td>\n",
       "      <td>3.40</td>\n",
       "      <td>1050</td>\n",
       "    </tr>\n",
       "    <tr>\n",
       "      <th>1</th>\n",
       "      <td>1</td>\n",
       "      <td>13.16</td>\n",
       "      <td>2.36</td>\n",
       "      <td>2.67</td>\n",
       "      <td>18.6</td>\n",
       "      <td>101</td>\n",
       "      <td>2.80</td>\n",
       "      <td>3.24</td>\n",
       "      <td>0.30</td>\n",
       "      <td>2.81</td>\n",
       "      <td>5.68</td>\n",
       "      <td>1.03</td>\n",
       "      <td>3.17</td>\n",
       "      <td>1185</td>\n",
       "    </tr>\n",
       "    <tr>\n",
       "      <th>2</th>\n",
       "      <td>1</td>\n",
       "      <td>14.37</td>\n",
       "      <td>1.95</td>\n",
       "      <td>2.50</td>\n",
       "      <td>16.8</td>\n",
       "      <td>113</td>\n",
       "      <td>3.85</td>\n",
       "      <td>3.49</td>\n",
       "      <td>0.24</td>\n",
       "      <td>2.18</td>\n",
       "      <td>7.80</td>\n",
       "      <td>0.86</td>\n",
       "      <td>3.45</td>\n",
       "      <td>1480</td>\n",
       "    </tr>\n",
       "    <tr>\n",
       "      <th>3</th>\n",
       "      <td>1</td>\n",
       "      <td>13.24</td>\n",
       "      <td>2.59</td>\n",
       "      <td>2.87</td>\n",
       "      <td>21.0</td>\n",
       "      <td>118</td>\n",
       "      <td>2.80</td>\n",
       "      <td>2.69</td>\n",
       "      <td>0.39</td>\n",
       "      <td>1.82</td>\n",
       "      <td>4.32</td>\n",
       "      <td>1.04</td>\n",
       "      <td>2.93</td>\n",
       "      <td>735</td>\n",
       "    </tr>\n",
       "    <tr>\n",
       "      <th>4</th>\n",
       "      <td>1</td>\n",
       "      <td>14.20</td>\n",
       "      <td>1.76</td>\n",
       "      <td>2.45</td>\n",
       "      <td>15.2</td>\n",
       "      <td>112</td>\n",
       "      <td>3.27</td>\n",
       "      <td>3.39</td>\n",
       "      <td>0.34</td>\n",
       "      <td>1.97</td>\n",
       "      <td>6.75</td>\n",
       "      <td>1.05</td>\n",
       "      <td>2.85</td>\n",
       "      <td>1450</td>\n",
       "    </tr>\n",
       "  </tbody>\n",
       "</table>\n",
       "</div>"
      ],
      "text/plain": [
       "   1  14.23  1.71  2.43  15.6  127   2.8  3.06   .28  2.29  5.64  1.04  3.92  \\\n",
       "0  1  13.20  1.78  2.14  11.2  100  2.65  2.76  0.26  1.28  4.38  1.05  3.40   \n",
       "1  1  13.16  2.36  2.67  18.6  101  2.80  3.24  0.30  2.81  5.68  1.03  3.17   \n",
       "2  1  14.37  1.95  2.50  16.8  113  3.85  3.49  0.24  2.18  7.80  0.86  3.45   \n",
       "3  1  13.24  2.59  2.87  21.0  118  2.80  2.69  0.39  1.82  4.32  1.04  2.93   \n",
       "4  1  14.20  1.76  2.45  15.2  112  3.27  3.39  0.34  1.97  6.75  1.05  2.85   \n",
       "\n",
       "   1065  \n",
       "0  1050  \n",
       "1  1185  \n",
       "2  1480  \n",
       "3   735  \n",
       "4  1450  "
      ]
     },
     "execution_count": 52,
     "metadata": {},
     "output_type": "execute_result"
    }
   ],
   "source": [
    "wine_df.head()"
   ]
  },
  {
   "cell_type": "code",
   "execution_count": 6,
   "metadata": {
    "collapsed": true
   },
   "outputs": [],
   "source": [
    "wine_df_columns = [ 'class', 'Alcohol', 'Malicity', 'Ash', 'Alcanity', 'Magnesium', 'TotalPhenol', 'Flavanoids', \n",
    "                  'NonFlavanoids', 'Prothocyanins', 'ColorIntensity', 'Hue', 'fracdiluted', 'Proline' ]"
   ]
  },
  {
   "cell_type": "code",
   "execution_count": 7,
   "metadata": {
    "collapsed": true
   },
   "outputs": [],
   "source": [
    "# Split the wine data into separate training (70%) and test (30%) sets and then standardize it to unit variance:\n",
    "\n",
    "\n",
    "\n",
    "from sklearn.model_selection import train_test_split\n",
    "from sklearn.preprocessing import StandardScaler\n",
    "\n",
    "X,y = wine_df.iloc[:, 1:].values , wine_df.iloc[:,0].values\n",
    "X_train, X_test, y_train, y_test = train_test_split(X, y, test_size=0.3 , random_state=0)\n",
    "sc = StandardScaler()\n",
    "X_train_std = sc.fit_transform(X_train)\n",
    "X_test_std = sc.fit_transform(X_test)\n"
   ]
  },
  {
   "cell_type": "code",
   "execution_count": 8,
   "metadata": {
    "collapsed": true
   },
   "outputs": [],
   "source": [
    "#Now we want to construct the covariance matrix which is symmetric with d×d-dimension, where d is the dataset dimension. The covariance matrix stores the pairwise covariances between the different features.\n",
    "\n",
    "covariant_matrix= np.cov(X_train_std.T)"
   ]
  },
  {
   "cell_type": "code",
   "execution_count": 48,
   "metadata": {
    "collapsed": false
   },
   "outputs": [
    {
     "data": {
      "text/plain": [
       "array([[ 1.00819672,  0.11603947,  0.31211059, -0.26884002,  0.24857879,\n",
       "         0.26293854,  0.23084523, -0.10509644,  0.11067129,  0.56984481,\n",
       "        -0.02140561,  0.05035879,  0.63027433],\n",
       "       [ 0.11603947,  1.00819672,  0.19134078,  0.32067514, -0.01297849,\n",
       "        -0.37759997, -0.44552938,  0.36265151, -0.27511335,  0.30568309,\n",
       "        -0.59356482, -0.44055186, -0.19602054],\n",
       "       [ 0.31211059,  0.19134078,  1.00819672,  0.41619457,  0.30183623,\n",
       "         0.14456248,  0.1257978 ,  0.15754307, -0.04811143,  0.31897527,\n",
       "        -0.08792976, -0.0091283 ,  0.29288918],\n",
       "       [-0.26884002,  0.32067514,  0.41619457,  1.00819672, -0.0284448 ,\n",
       "        -0.26552543, -0.31301539,  0.31452385, -0.24491274,  0.01231029,\n",
       "        -0.26290392, -0.26423051, -0.4210642 ],\n",
       "       [ 0.24857879, -0.01297849,  0.30183623, -0.0284448 ,  1.00819672,\n",
       "         0.18357589,  0.16750482, -0.25463226,  0.17878755,  0.20875925,\n",
       "         0.04219565,  0.061882  ,  0.37523832],\n",
       "       [ 0.26293854, -0.37759997,  0.14456248, -0.26552543,  0.18357589,\n",
       "         1.00819672,  0.87471647, -0.47181469,  0.61649477, -0.05740919,\n",
       "         0.46931242,  0.70739227,  0.48618942],\n",
       "       [ 0.23084523, -0.44552938,  0.1257978 , -0.31301539,  0.16750482,\n",
       "         0.87471647,  1.00819672, -0.5627759 ,  0.68096182, -0.13875184,\n",
       "         0.55744026,  0.79008601,  0.48228438],\n",
       "       [-0.10509644,  0.36265151,  0.15754307,  0.31452385, -0.25463226,\n",
       "        -0.47181469, -0.5627759 ,  1.00819672, -0.41205176,  0.19782769,\n",
       "        -0.33035915, -0.55789834, -0.27013307],\n",
       "       [ 0.11067129, -0.27511335, -0.04811143, -0.24491274,  0.17878755,\n",
       "         0.61649477,  0.68096182, -0.41205176,  1.00819672, -0.01884256,\n",
       "         0.33570783,  0.51947752,  0.34145202],\n",
       "       [ 0.56984481,  0.30568309,  0.31897527,  0.01231029,  0.20875925,\n",
       "        -0.05740919, -0.13875184,  0.19782769, -0.01884256,  1.00819672,\n",
       "        -0.50285923, -0.43166614,  0.32950041],\n",
       "       [-0.02140561, -0.59356482, -0.08792976, -0.26290392,  0.04219565,\n",
       "         0.46931242,  0.55744026, -0.33035915,  0.33570783, -0.50285923,\n",
       "         1.00819672,  0.602098  ,  0.2893693 ],\n",
       "       [ 0.05035879, -0.44055186, -0.0091283 , -0.26423051,  0.061882  ,\n",
       "         0.70739227,  0.79008601, -0.55789834,  0.51947752, -0.43166614,\n",
       "         0.602098  ,  1.00819672,  0.32513064],\n",
       "       [ 0.63027433, -0.19602054,  0.29288918, -0.4210642 ,  0.37523832,\n",
       "         0.48618942,  0.48228438, -0.27013307,  0.34145202,  0.32950041,\n",
       "         0.2893693 ,  0.32513064,  1.00819672]])"
      ]
     },
     "execution_count": 48,
     "metadata": {},
     "output_type": "execute_result"
    }
   ],
   "source": [
    "# Display covariant matrix . This is a 13 X 13 square matrix\n",
    "\n",
    "covariant_matrix"
   ]
  },
  {
   "cell_type": "code",
   "execution_count": 11,
   "metadata": {
    "collapsed": false
   },
   "outputs": [],
   "source": [
    "#The eigenvectors of the covariance matrix represent the principal components, while the corresponding eigenvalues \n",
    "# define their magnitude.\n",
    "\n",
    "# In the case of the Wine dataset, we obtain 13 eigenvectors and eigenvalues from the 13×13 covariance matrix.\n",
    "\n",
    "# An eigenvector ν satisfies the following condition where lambda is the eigenvalue: # Aν = λν \n",
    " \n",
    "# We use the linalg.eig function from NumPy to obtain the eigenpairs of the Wine covariance matrix:\n",
    "\n",
    "\n",
    "eigen_values , eigen_vectors = np.linalg.eig(covariant_matrix)"
   ]
  },
  {
   "cell_type": "code",
   "execution_count": 14,
   "metadata": {
    "collapsed": false
   },
   "outputs": [
    {
     "data": {
      "text/plain": [
       "(array([ 4.80831621,  2.60374779,  1.37087288,  0.89730848,  0.89417853,\n",
       "         0.61503055,  0.52428622,  0.09986474,  0.36400572,  0.1628064 ,\n",
       "         0.30351535,  0.23651936,  0.22610515]),\n",
       " array([[ 0.11764947, -0.48449198, -0.22676228,  0.22167968, -0.0657581 ,\n",
       "          0.29682743,  0.07792283, -0.02721779, -0.41894013,  0.27473069,\n",
       "         -0.34066068, -0.3700865 ,  0.21821592],\n",
       "        [-0.27125589, -0.22537291,  0.0915252 , -0.05050596,  0.4230611 ,\n",
       "          0.51436621, -0.55097414, -0.00456689, -0.07912341, -0.1424389 ,\n",
       "          0.01798525,  0.1616495 , -0.25406603],\n",
       "        [-0.00287842, -0.37849214,  0.56611151,  0.18058454, -0.21551982,\n",
       "          0.06167068,  0.10384847,  0.15079088,  0.23426669,  0.00241752,\n",
       "          0.36953189, -0.40176932, -0.25886059],\n",
       "        [-0.2187704 , -0.00424088,  0.66946119, -0.01259168,  0.07601025,\n",
       "         -0.06845273,  0.23091643, -0.11012603, -0.44673576,  0.09095765,\n",
       "         -0.12428073,  0.35754592,  0.27702039],\n",
       "        [ 0.11381354, -0.29832137,  0.14770786, -0.75074129, -0.31956416,\n",
       "         -0.1361768 , -0.287783  , -0.04231645,  0.10836262, -0.03558904,\n",
       "         -0.28727815, -0.05168022,  0.09558769],\n",
       "        [ 0.3883771 , -0.08395627,  0.15502807,  0.14670929,  0.22086601,\n",
       "         -0.03775874,  0.03574764,  0.43158715,  0.30578757,  0.33842374,\n",
       "         -0.44734689,  0.3189918 , -0.22111694],\n",
       "        [ 0.41798859, -0.03573104,  0.14704292,  0.11253134,  0.19295588,\n",
       "         -0.00429476,  0.04368408, -0.81713651,  0.15231416, -0.09430635,\n",
       "         -0.13546207, -0.03350599, -0.17688186],\n",
       "        [-0.30781073, -0.05530974,  0.07138073,  0.4977631 , -0.14508103,\n",
       "         -0.40460866, -0.51673044, -0.0989297 ,  0.22691772, -0.01679607,\n",
       "         -0.2618417 , -0.0492581 ,  0.25497996],\n",
       "        [ 0.31891453, -0.03466028,  0.04901835, -0.09028858,  0.49779638,\n",
       "         -0.4928227 , -0.28997083,  0.13472565, -0.3315524 ,  0.12135383,\n",
       "          0.30539951, -0.26577689,  0.07118897],\n",
       "        [-0.09956432, -0.51335364, -0.18399456,  0.05071214,  0.17972582,\n",
       "         -0.33160201,  0.31436701,  0.10711116, -0.03913362, -0.61886473,\n",
       "         -0.11271152,  0.16530285, -0.11408191],\n",
       "        [ 0.31677259,  0.21549584,  0.08151526,  0.19286413, -0.44645711,\n",
       "         -0.0218382 , -0.25309328,  0.12287339, -0.49623084, -0.31525918,\n",
       "         -0.11540162,  0.07776842, -0.4067205 ],\n",
       "        [ 0.38268756,  0.13494201,  0.17418972,  0.08471397,  0.09054176,\n",
       "          0.31818436, -0.05517899,  0.21210451,  0.16122136, -0.49594834,\n",
       "         -0.01021538, -0.08615189,  0.60072178],\n",
       "        [ 0.27026597, -0.37608379, -0.16040494,  0.1219576 , -0.26011715,\n",
       "          0.02414721, -0.15238898, -0.09542217,  0.01180594,  0.16705884,\n",
       "          0.49261918,  0.57292205,  0.21302749]]))"
      ]
     },
     "execution_count": 14,
     "metadata": {},
     "output_type": "execute_result"
    }
   ],
   "source": [
    "eigen_values, eigen_vectors"
   ]
  },
  {
   "cell_type": "code",
   "execution_count": null,
   "metadata": {
    "collapsed": true
   },
   "outputs": [],
   "source": [
    "# We computed the covariance matrix of the standardized training dataset using the numpy.cov() function.\n",
    "\n",
    "# Using the linalg.eig function, we performed the eigendecomposition that yielded 13 eigenvalues and the \n",
    "# corresponding eigenvectors stored as columns in a 13×13 matrix.\n",
    "\n",
    "# Since we want to reduce the dimensionality of our dataset by compressing it onto a new feature subspace, \n",
    "# we only select the subset of the eigenvectors (principal components) that contains most of the information(variance).\n",
    "\n",
    "# Since the eigenvalues define the magnitude of the eigenvectors, we have to sort the eigenvalues by decreasing\n",
    "# magnitude, and we are interested in the top k eigenvectors based on the values of their corresponding eigenvalues.\n",
    "\n",
    "# But before we collect those k most informative eigenvectors, let's plot the variance explained ratios of \n",
    "# the eigenvalues. The variance explained ratio of an eigenvalue λj is simply the fraction of an eigenvalue\n",
    "# λj and the total sum of the eigenvalues:\n",
    "#  λj / ∑j  (tot is ∑j)\n",
    "\n",
    "\n"
   ]
  },
  {
   "cell_type": "code",
   "execution_count": 21,
   "metadata": {
    "collapsed": false
   },
   "outputs": [
    {
     "data": {
      "image/png": "[encoded data removed]",
      "text/plain": [
       "<matplotlib.figure.Figure at 0x260d0365eb8>"
      ]
     },
     "metadata": {},
     "output_type": "display_data"
    }
   ],
   "source": [
    "tot = sum(eigen_values)\n",
    "var_explained = [(i / tot) for i in sorted(eigen_values, reverse=True)]  # an array of variance explained by each \n",
    "# eigen vector... there will be 13 entries as there are 13 eigen vectors)\n",
    "cum_var_exp = np.cumsum(var_explained)  # an array of cumulative variance. There will be 13 entries with 13 th entry \n",
    "# cumulative reaching almost 100%\n",
    "\n",
    "\n",
    "plt.bar(range(1,14), var_explained, alpha=0.5, align='center', label='individual explained variance')\n",
    "plt.step(range(1,14),cum_var_exp, where= 'mid', label='cumulative explained variance')\n",
    "plt.ylabel('Explained variance ratio')\n",
    "plt.xlabel('Principal components')\n",
    "plt.legend(loc = 'best')\n",
    "plt.show()\n",
    "\n",
    "\n",
    "# The plot shows that the first principal component alone accounts for 40 percent of the variance. \n",
    "# Also, we can see that the first two principal components combined explain almost 60 percent of the variance \n",
    "# in the data."
   ]
  },
  {
   "cell_type": "code",
   "execution_count": 23,
   "metadata": {
    "collapsed": false
   },
   "outputs": [
    {
     "data": {
      "text/plain": [
       "[(4.8083162079634771,\n",
       "  array([ 0.11764947, -0.27125589, -0.00287842, -0.2187704 ,  0.11381354,\n",
       "          0.3883771 ,  0.41798859, -0.30781073,  0.31891453, -0.09956432,\n",
       "          0.31677259,  0.38268756,  0.27026597])),\n",
       " (2.6037477936979094,\n",
       "  array([-0.48449198, -0.22537291, -0.37849214, -0.00424088, -0.29832137,\n",
       "         -0.08395627, -0.03573104, -0.05530974, -0.03466028, -0.51335364,\n",
       "          0.21549584,  0.13494201, -0.37608379])),\n",
       " (1.3708728776058985,\n",
       "  array([-0.22676228,  0.0915252 ,  0.56611151,  0.66946119,  0.14770786,\n",
       "          0.15502807,  0.14704292,  0.07138073,  0.04901835, -0.18399456,\n",
       "          0.08151526,  0.17418972, -0.16040494])),\n",
       " (0.89730848002461316,\n",
       "  array([ 0.22167968, -0.05050596,  0.18058454, -0.01259168, -0.75074129,\n",
       "          0.14670929,  0.11253134,  0.4977631 , -0.09028858,  0.05071214,\n",
       "          0.19286413,  0.08471397,  0.1219576 ])),\n",
       " (0.89417852913313467,\n",
       "  array([-0.0657581 ,  0.4230611 , -0.21551982,  0.07601025, -0.31956416,\n",
       "          0.22086601,  0.19295588, -0.14508103,  0.49779638,  0.17972582,\n",
       "         -0.44645711,  0.09054176, -0.26011715]))]"
      ]
     },
     "execution_count": 23,
     "metadata": {},
     "output_type": "execute_result"
    }
   ],
   "source": [
    "# We're going to sort the eigen-pairs by descending order of the eigenvalues, and construct a projection matrix\n",
    "# from the selected eigenvectors. Then, using the projection matrix we will transform the data onto the \n",
    "#lower-dimensional subspace.\n",
    "\n",
    "# Let's start by sorting the eigen-pairs by decreasing order of the eigenvalues:\n",
    "\n",
    "eigen_pairs = [(np.abs(eigen_values[i]), eigen_vectors[:,i]) for i in range(len(eigen_values))]\n",
    "eigen_pairs.sort(reverse=True)\n",
    "eigen_pairs[:5]"
   ]
  },
  {
   "cell_type": "code",
   "execution_count": 40,
   "metadata": {
    "collapsed": false
   },
   "outputs": [],
   "source": [
    "# here we are creating from the eigen-pair table, a 2 dim array of only vectors (each column is one vector)\n",
    "# we are taking only the first two eigen vectors (which cover 60% of variance) for demo purpose\n",
    "\n",
    "# Note that choosing the number of principal components has to be determined from a trade-off between computational \n",
    "# efficiency and the performance of the classifier, however, we only chose two eigenvectors for the demonstration \n",
    "# purpose.\n",
    "\n",
    "# We use hstack (horizontally stack 0th row 1st column, 1st row 1st column). The newaxis() function of np\n",
    "# coverts a row vector to a column vector and stacks those vectors horizontally\n",
    "#Now we've created a 13 × 2 projection matrix W from the top two eigenvectors.\n",
    "\n",
    "\n",
    "\n",
    "\n",
    "\n",
    "w = np.hstack((eigen_pairs[0][1][:, np.newaxis], eigen_pairs[1][1][:, np.newaxis]))"
   ]
  },
  {
   "cell_type": "code",
   "execution_count": 41,
   "metadata": {
    "collapsed": false
   },
   "outputs": [
    {
     "data": {
      "text/plain": [
       "array([[ 0.11764947, -0.48449198],\n",
       "       [-0.27125589, -0.22537291],\n",
       "       [-0.00287842, -0.37849214],\n",
       "       [-0.2187704 , -0.00424088],\n",
       "       [ 0.11381354, -0.29832137],\n",
       "       [ 0.3883771 , -0.08395627],\n",
       "       [ 0.41798859, -0.03573104],\n",
       "       [-0.30781073, -0.05530974],\n",
       "       [ 0.31891453, -0.03466028],\n",
       "       [-0.09956432, -0.51335364],\n",
       "       [ 0.31677259,  0.21549584],\n",
       "       [ 0.38268756,  0.13494201],\n",
       "       [ 0.27026597, -0.37608379]])"
      ]
     },
     "execution_count": 41,
     "metadata": {},
     "output_type": "execute_result"
    }
   ],
   "source": [
    "w"
   ]
  },
  {
   "cell_type": "code",
   "execution_count": 26,
   "metadata": {
    "collapsed": false
   },
   "outputs": [
    {
     "data": {
      "text/plain": [
       "array([-0.16184363, -0.62896274,  0.5741578 , -0.49712977, -0.29104738,\n",
       "        0.29593887,  0.34966073, -0.81679543, -0.2483745 , -0.46074326,\n",
       "        0.59319035,  1.46755686,  0.85830972])"
      ]
     },
     "execution_count": 26,
     "metadata": {},
     "output_type": "execute_result"
    }
   ],
   "source": [
    "X_train_std[0]"
   ]
  },
  {
   "cell_type": "code",
   "execution_count": 27,
   "metadata": {
    "collapsed": false
   },
   "outputs": [
    {
     "data": {
      "text/plain": [
       "array([ 1.68621444,  0.3478216 ])"
      ]
     },
     "execution_count": 27,
     "metadata": {},
     "output_type": "execute_result"
    }
   ],
   "source": [
    "# we want to transform the Wine dataset (X_traini_std) onto the new principal component axes\n",
    "# Transform dataset onto a new principal axes using matrix multiplication (shown as dot operation)\n",
    "\n",
    "X_train_std[0].dot(w)"
   ]
  },
  {
   "cell_type": "code",
   "execution_count": 28,
   "metadata": {
    "collapsed": false
   },
   "outputs": [
    {
     "data": {
      "text/plain": [
       "((123, 13), (13, 2), (123, 2))"
      ]
     },
     "execution_count": 28,
     "metadata": {},
     "output_type": "execute_result"
    }
   ],
   "source": [
    "# complete matrix operation \n",
    "\n",
    "X_train_pca = X_train_std.dot(w)\n",
    "X_train_std.shape, w.shape, X_train_pca.shape"
   ]
  },
  {
   "cell_type": "code",
   "execution_count": 33,
   "metadata": {
    "collapsed": false
   },
   "outputs": [
    {
     "data": {
      "image/png": "[encoded data removed]",
      "text/plain": [
       "<matplotlib.figure.Figure at 0x260d16b32e8>"
      ]
     },
     "metadata": {},
     "output_type": "display_data"
    }
   ],
   "source": [
    "# For the scatter plot, we take data points from X_train_pca PC1 and PC2 for all those cases where y_train lable is L \n",
    "# where L  can vary from 1,2,3.\n",
    "# For each L, a corresponding color and marker is used in the plot\n",
    "\n",
    "colors = ['r' , 'b', 'g']\n",
    "markers = ['s', 'x', 'o']\n",
    "\n",
    "for l, c, m in zip(np.unique(y_train), colors, markers):\n",
    "    plt.scatter(X_train_pca[y_train==l, 0], X_train_pca[y_train ==l , 1], c=c, label=l, marker=m)\n",
    "plt.xlabel('PC 1')\n",
    "plt.ylabel('PC 2')\n",
    "plt.legend(loc = 'lower left')\n",
    "plt.show()"
   ]
  },
  {
   "cell_type": "code",
   "execution_count": null,
   "metadata": {
    "collapsed": true
   },
   "outputs": [],
   "source": []
  }
 ],
 "metadata": {
  "kernelspec": {
   "display_name": "Python 3",
   "language": "python",
   "name": "python3"
  },
  "language_info": {
   "codemirror_mode": {
    "name": "ipython",
    "version": 3
   },
   "file_extension": ".py",
   "mimetype": "text/x-python",
   "name": "python",
   "nbconvert_exporter": "python",
   "pygments_lexer": "ipython3",
   "version": "3.6.0"
  }
 },
 "nbformat": 4,
 "nbformat_minor": 2
}
